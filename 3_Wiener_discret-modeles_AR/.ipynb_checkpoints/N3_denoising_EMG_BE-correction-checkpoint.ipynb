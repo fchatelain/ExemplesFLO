{
 "cells": [
  {
   "cell_type": "code",
   "execution_count": 1,
   "metadata": {},
   "outputs": [],
   "source": [
    "# afficher des figures dans le notebook\n",
    "# Note: utiliser 'widget' au lieu de 'inline' pour un affichage interactif\n",
    "%matplotlib widget"
   ]
  },
  {
   "cell_type": "markdown",
   "metadata": {},
   "source": [
    "# Filtre de Wiener auto-ajusté pour débruiter des signaux EMG\n",
    "\n",
    "\n",
    "**Objectif :** Restaurer le signal de l'activité électrique d'un muscle ou d'un nerf à l'aide du filtrage de Wiener discret.\n",
    "\n",
    "Ce notebook python reprend l'application présentée dans les transparents <u>25-31</u> de la leçon [3_Wiener_discret-modeles_AR.pdf](https://gricad-gitlab.univ-grenoble-alpes.fr/ds-courses/optimal-filtering-sicom/-/tree/master/slides/3_Wiener_discret-modeles_AR.pdf) (à bien lire pour comprendre le problème et le travail demandé). Même s'il est déjà très complet, certaines parties sont à compléter par vous même (BE). Le but est que vous vous concentriez sur l'essentiel :\n",
    "- le principe du filtre de Wiener auto-ajusté\n",
    "- le dimensionnement des paramètres de ce filtre\n",
    "- la résolution du système de Wiener-Hopf\n",
    "- l'interprétation des résultats\n",
    "\n",
    "Des commentaires et des questions vous sont régulièrement adressés afin de vous guider, et les parties que vous devrez modifier dans le code sont toujours suivies de la mention `FIXME` en commentaire.\n",
    "\n",
    "Les principaux modules ou fonctions Python utiles à ce BE sont *importées* dans le bloc de code qui suit.\n",
    "On y définit également la fonction `xcorr()` avec une syntaxe similaire à celle de Matlab.\n",
    "On rappelle que la documentation pour chaque module, objet ou fonction s’obtient à l’aide de la fonction `help()`, e.g. :\n",
    "> `help(xcorr)`\n",
    "\n",
    "permet d’obtenir les informations relatives au calcul de l'intercorrélation entre deux signaux.\n",
    "\n",
    "*Le bloc de code qui suit est un préambule contenant l'ensemble des fonctions utiles à ce BE*."
   ]
  },
  {
   "cell_type": "code",
   "execution_count": 2,
   "metadata": {
    "jupyter": {
     "source_hidden": true
    }
   },
   "outputs": [],
   "source": [
    "# Dépendances vers les fonctions utiles pour construire/appliquer le filtre de Wiener\n",
    "import scipy.io  # Lire les données en .mat\n",
    "import numpy as np  # Représentation machine par np array\n",
    "from scipy.signal import welch  # Périodogramme, densité spectral\n",
    "from scipy.signal import lfilter  # Fonction de filtrage\n",
    "from scipy.signal.windows import hann  # Hanning window\n",
    "from scipy.linalg import toeplitz  # Matrice Toeplitz\n",
    "from scipy.linalg import solve  # Résoud les système Ax = b\n",
    "\n",
    "# Dépendance pour les graphiques\n",
    "import matplotlib.pyplot as plt\n",
    "\n",
    "# Equivalent de fonctions Matlab en Python\n",
    "def xcorr(y1, y2, maxlag=-1, scale=\"biased\"):\n",
    "    \"\"\" \"returns the cross-correlation of two discrete-time sequences.\n",
    "         Cross-correlation measures the similarity\n",
    "         between a vector x and shifted (lagged)\n",
    "         copies of a vector y as a function of the lag.\"\"\n",
    "\n",
    "        Définition de 'xcorr' Matlab, cf.\n",
    "        https://www.mathworks.com/help/matlab/ref/xcorr.html\n",
    "\n",
    "    Entrées:\n",
    "        y1, y2 : ndarray de même longueur.\n",
    "                 les signaux\n",
    "        maxlag : integer\n",
    "                la corrélation est calculée pour tous les retards\n",
    "                r dans -maxlag,...,maxlag.\n",
    "                Par défaut, maxlag=-1 correspond au nombre total de points\n",
    "                dans le signal.\n",
    "        scale : {'biased', 'unbiased'}, optional\n",
    "            'biased':\n",
    "              Par défaut. Pour chaque retard, la constante de\n",
    "              normalisation est la même : le nombre N d'échantillons\n",
    "              dans le signal. Cela biaise vers 0 la corrélation estimée\n",
    "              pour des grands retards.\n",
    "            'unbiased':\n",
    "              La constante de normalisation vaut N-|r| et  correspond\n",
    "              au nombre de produits croisés qui sont effectivement sommés pour\n",
    "              chaque retard r.\n",
    "    Sorties:\n",
    "        xcorr: ndarray\n",
    "               corrélations pour chaque retard dans -maxlag,...,maxlag\n",
    "        lag:   ndarray\n",
    "               retards associés : -maxlag,...,maxlag\n",
    "    \"\"\"\n",
    "    l_ = len(y1)\n",
    "    if l_ != len(y2):\n",
    "        raise ValueError(\"Les longueurs doivent être identiques.\")\n",
    "\n",
    "    # Biased or unbiased scaling?\n",
    "    scale_from_option_dict = {\"b\": 0, \"u\": 1}\n",
    "    scale = scale_from_option_dict[scale.lower()[0]]\n",
    "\n",
    "    # Do correlation\n",
    "    corr = np.correlate(y1, y2, mode=\"full\")  # / np.sqrt(P_y1 * P_y2)\n",
    "\n",
    "    if scale == 0:\n",
    "        # The biased scaling factor is N (signal length)\n",
    "        corr = corr / l_\n",
    "    elif scale == 1:\n",
    "        # The unbiased scaling factor is N - |r| where r is the lag\n",
    "        #  (i.e. the number of cross-terms to estime the correlation at lag r)\n",
    "        unbiased_sample_size = np.correlate(np.ones(l_), np.ones(l_), mode=\"full\")\n",
    "        corr = corr / unbiased_sample_size\n",
    "\n",
    "    shift = l_\n",
    "    lags = np.arange(2 * l_ - 1) - shift\n",
    "\n",
    "    if maxlag != -1 and maxlag <= shift:\n",
    "        corr = corr[max(0, shift - maxlag - 1) : min(2 * l_ - 1, shift + maxlag)]\n",
    "        lags = np.arange(2 * maxlag + 1) - maxlag\n",
    "\n",
    "    return corr, lags"
   ]
  },
  {
   "cell_type": "markdown",
   "metadata": {},
   "source": [
    "\n",
    "## I. Signaux EMG\n",
    "\n",
    "Chargement des données centrées dans ``sig_y``.\n",
    "Visualisation des caractéristiques de ce signal."
   ]
  },
  {
   "cell_type": "code",
   "execution_count": 3,
   "metadata": {},
   "outputs": [],
   "source": [
    "# Fréquence d'échantillonnage en Hz\n",
    "Fe = 2000\n",
    "\n",
    "# Récupération des données emg centrées\n",
    "file = scipy.io.loadmat(\"data/demipronation_extension1_lead3.mat\")\n",
    "sig_y = np.array(file[\"emg_data\"]).reshape(-1) - np.mean(file[\"emg_data\"])\n",
    "\n",
    "# Echantillonnage\n",
    "N = sig_y.shape[0]\n",
    "temps = np.arange(0, N) / Fe"
   ]
  },
  {
   "cell_type": "markdown",
   "metadata": {},
   "source": [
    "**Question :** connaissant la fréquence d'échantillonnage $F_e=2000$Hz, quelle est la période en nombre d'échantillons du bruit périodique associé au $50$ Hz ? "
   ]
  },
  {
   "cell_type": "markdown",
   "metadata": {},
   "source": [
    "a) Visualisation des signaux dans le domaine temporel\n",
    "\n",
    "Affichage dans une fenêtre réduite [2, 2.5] (en s.). On peut déjà remarquer le côté très harmonique (fortes composantes périodiques) du signal"
   ]
  },
  {
   "cell_type": "code",
   "execution_count": 4,
   "metadata": {},
   "outputs": [
    {
     "data": {
      "application/vnd.jupyter.widget-view+json": {
       "model_id": "d17ae2c8026a48609fbb7f60b4ca642d",
       "version_major": 2,
       "version_minor": 0
      },
      "text/plain": [
       "Canvas(toolbar=Toolbar(toolitems=[('Home', 'Reset original view', 'home', 'home'), ('Back', 'Back to previous …"
      ]
     },
     "metadata": {},
     "output_type": "display_data"
    }
   ],
   "source": [
    "plt.figure(figsize=(10, 5))\n",
    "plt.title(\"Visualisation dans le domaine temporel\")\n",
    "plt.plot(temps, sig_y)\n",
    "plt.xlim(2, 2.5)\n",
    "plt.xlabel(\"Temps (s)\")\n",
    "plt.ylabel(\"Amplitude\")\n",
    "plt.grid()\n",
    "plt.tight_layout()"
   ]
  },
  {
   "cell_type": "markdown",
   "metadata": {},
   "source": [
    "b) Calcul du périodogramme modifé (méthode de Welch)"
   ]
  },
  {
   "cell_type": "code",
   "execution_count": 5,
   "metadata": {},
   "outputs": [
    {
     "data": {
      "application/vnd.jupyter.widget-view+json": {
       "model_id": "eae38bfc21914ecaa604c894774bee0d",
       "version_major": 2,
       "version_minor": 0
      },
      "text/plain": [
       "Canvas(toolbar=Toolbar(toolitems=[('Home', 'Reset original view', 'home', 'home'), ('Back', 'Back to previous …"
      ]
     },
     "metadata": {},
     "output_type": "display_data"
    },
    {
     "data": {
      "text/plain": [
       "Text(0, 0.5, 'dB')"
      ]
     },
     "execution_count": 5,
     "metadata": {},
     "output_type": "execute_result"
    }
   ],
   "source": [
    "Nblocks = 512  # Taille des blocs pour lesquels on calcule la FFT\n",
    "rec = int(3 * Nblocks / 4)  # Recouvrement de 75% entre blocs\n",
    "\n",
    "hann_win = hann(Nblocks, True)  # Fenetre de Hanning\n",
    "\n",
    "# On estime le spectre sur Nblocks+1 points, i.e. avec une resolution\n",
    "# spectrale de Fe / (2 * Nblocks)\n",
    "[freq, dspy] = welch(sig_y, Fe, window=hann_win, noverlap=rec, nfft=2 * Nblocks)\n",
    "\n",
    "plt.figure(figsize=(10, 5))\n",
    "plt.grid()\n",
    "# On représente la magnitude en dB dans le domaine spectral\n",
    "plt.semilogy(freq, dspy, \"b-\")\n",
    "plt.xticks(np.arange(0, 1001, 50))\n",
    "plt.title(\"Densite spectrale de puissance (dB) du signal observe\")\n",
    "plt.xlabel(\"frequence (Hz)\")\n",
    "plt.ylabel(\"dB\")"
   ]
  },
  {
   "cell_type": "markdown",
   "metadata": {},
   "source": [
    "\n",
    "\n",
    "**Question :** \n",
    "- Faites comme la figure précédente des vues dans des domaines de fréquences différents  (cf `plt.xlim()`) . \n",
    "- A quoi correspondent les raies visibles dans le spectre ?"
   ]
  },
  {
   "cell_type": "markdown",
   "metadata": {},
   "source": [
    "## II. Estimation/Suppresion de bruit périodique"
   ]
  },
  {
   "cell_type": "markdown",
   "metadata": {},
   "source": [
    "En TNS, vous avez déjà vu comment réaliser des filtres passe-bas/haut/bande... Une solution serait de construire des filtres à encoches qui viennent couper toutes les fréquences bruitées. Cette solution serait un peu trop brutale dans notre cas, car on perdrait également beaucoup d'information utile dans la bande qui nous intéresse.\n",
    "\n",
    "L'objectif dans la suite est de construire le filtre optimal qui *lisse au mieux (au sens de l'EQM) les raies parasites afin de rejeter le bruit tout en laissant passer l'information utile*.\n",
    "\n",
    "### 1. Construction du filtre auto-ajusté optimal\n",
    "\n",
    "On rappelle qu'on observe le signal $$y(t) = x(t) + \\nu_p(t)$$ où $x(t)$ est le signal utile, large bande, centré, stationnaire au second ordre et $\\nu_p(t)$ est un bruit périodique, décorrélé de $x(t)$.\n",
    "On cherche le filtre optimal au sens de Wiener afin d’estimer la partie périodique du signal $s(t) \\equiv  \\nu_p(t)$\n",
    "et donc accéder au signal utile large bande $x(t) = y(t)-\\nu_p(t)$ (on parle de débruitage /restauration ou encore d'annulation / suppression de bruit).\n",
    "\n",
    "Afin de synthétiser le filtre optimal, on rappelle qu'il est nécessaire de connaitre les fonctions de corrélation $\\Gamma_{yy}(\\cdot)$ et $\\Gamma_{sy}(\\cdot)$. L'autocorrélation $\\Gamma_{yy}(\\cdot) $ peut être estimée directement à partir des données $y(t)$.\n",
    "Mais pour estimer l'intercorrélation $\\Gamma_{sy}(\\cdot)$ entre les observations et le bruit, il \n",
    "serait nécessaire disposer d'une référence ''bruit seul''...\n",
    "\n",
    "Comme c'est expliqué dans l'énoncé du [BE sur Wiener](https://chamilo.grenoble-inp.fr/courses/ENSE3A24EMAABJ0/document/BE_1/BE_wiener.pdf?cidReq=ENSE3A24EMAABJ0&id_session=0&gidReq=0&gradebook=0&origin=) \n",
    "il est possible pour ce problème  de construire une référence bruit seul à parti du seul signal observé $y(t)$ ! \n",
    "\n",
    "A la place d'une référence ''bruit seul'', on peut considérer le signal observé retardé $y_r(t)=y(t-\\tau')$\n",
    "où le retard $\\tau'$ doit satisfaire les **deux contraintes** suivantes :\n",
    "- $\\tau'= k_0 T$ est un **multiple de période du bruit $T$** \n",
    "- $\\tau'\\gg0$ est **suffisamment grand** par rapport à la longueur de la corrélation du signal large bande $x(t)$ \n",
    "\n",
    "Cela donne le filtre schématisé sur la figure ci-dessous. Le flèche diagonale qui traverse le filtre rappelle que les coefficients du filtre sont calculés à partir du signal retardé $y_r(t)$ : on parle de filtre **auto-ajusté**.\n",
    "\n",
    "![schéma du filtre auto-ajusté](./img/schema_filtre.svg)\n",
    "\n",
    "#### a) Estimer  l'*ordre de grandeur* de la longueur $N$ du filtre <b>RIF</b> (variable `Nrif`).\n",
    "\n",
    "On va chercher à estimer cet ordre de grandeur à parti du **spectre du signal observé** représenté dans le graphique de la celle précédente.\n",
    "\n",
    "**Rappel** (cf méthode des fenêtres en TNS) : \n",
    "- La largeur de la bande de transition (raideur) en *fréquence normalisée* d'un filtre RIF est *de l'ordre de* $1/N$\n",
    "- Quelle largeur de bande de transition ? Il faudrait ici qu'elle soit plus petite que la demi-largeur des pics à filtrer\n",
    "\n",
    "Cet ordre de grandeur sera utile pour obtenir une _première_ implémentation du filtre.  Il faudra _ensuite l'optimiser_ afin de vérifier si le filtre est suffisamment raide (i.e. $N$ suffisamment grand) ou à l'inverse si on ne peut pas le simplifier (i.e. $N$ plus petit) en conservant des performances de filtrage correctes."
   ]
  },
  {
   "cell_type": "code",
   "execution_count": 6,
   "metadata": {},
   "outputs": [],
   "source": [
    "Nrif = 1000  #  FIXME: choisir une valeur appropriée pour l'ordre du filtre"
   ]
  },
  {
   "cell_type": "markdown",
   "metadata": {},
   "source": [
    "#### b) Estimer et Visualiser la fonction de corrélaton du signal observé"
   ]
  },
  {
   "cell_type": "code",
   "execution_count": 7,
   "metadata": {},
   "outputs": [
    {
     "data": {
      "application/vnd.jupyter.widget-view+json": {
       "model_id": "bbe6e86e743f4d5a838b760e921d7543",
       "version_major": 2,
       "version_minor": 0
      },
      "text/plain": [
       "Canvas(toolbar=Toolbar(toolitems=[('Home', 'Reset original view', 'home', 'home'), ('Back', 'Back to previous …"
      ]
     },
     "metadata": {},
     "output_type": "display_data"
    }
   ],
   "source": [
    "# Calcul de l'autocorrélation\n",
    "[cy, lags] = xcorr(sig_y, sig_y, scale=\"biased\")\n",
    "\n",
    "# Affichage pour tous les retards possibles\n",
    "plt.figure(figsize=(10, 5))\n",
    "plt.grid()\n",
    "plt.xlim(-10, 10)  #  to be change to focus on smaller aera for the lags\n",
    "plt.plot(lags / Fe, cy, \"k-\")\n",
    "plt.title(\"Autocorrelation du signal observé\")\n",
    "plt.xlabel(\"Temps (s)\")\n",
    "plt.tight_layout()"
   ]
  },
  {
   "cell_type": "markdown",
   "metadata": {},
   "source": [
    "**Questions** (*Indice : re-voir le cours sur le filtre de Wiener discret slide 15*) : \n",
    "- pourquoi la corrélation ainsi estimée à une enveloppe triangulaire ?\n",
    "- que se passe t'il si on change d'estimateur en prenant la version non-biaisée (option `'unbiased'`)\n",
    "\n",
    "\n",
    "\n",
    "Dans notre application, on se limitera à des retards négligeables devant la longueur des signaux. Quel estimateur vous semble alors préférable (pensez ensuite à toujours utiliser le même estimateur par la suite) ?\n"
   ]
  },
  {
   "cell_type": "code",
   "execution_count": 8,
   "metadata": {},
   "outputs": [],
   "source": [
    "scale = \"biased\"  # FIXME: Choisir la normalisation qui vous semble la plus appropriée\n",
    "scale = \"unbiased\""
   ]
  },
  {
   "cell_type": "code",
   "execution_count": 9,
   "metadata": {},
   "outputs": [],
   "source": [
    "# Affichage de l'autocorrélation pour de petits retards"
   ]
  },
  {
   "cell_type": "code",
   "execution_count": 10,
   "metadata": {},
   "outputs": [
    {
     "data": {
      "application/vnd.jupyter.widget-view+json": {
       "model_id": "395fc1c5660e47cebef3bb6fee09302f",
       "version_major": 2,
       "version_minor": 0
      },
      "text/plain": [
       "Canvas(toolbar=Toolbar(toolitems=[('Home', 'Reset original view', 'home', 'home'), ('Back', 'Back to previous …"
      ]
     },
     "metadata": {},
     "output_type": "display_data"
    }
   ],
   "source": [
    "plt.figure(figsize=(10, 5))\n",
    "plt.grid()\n",
    "plt.xlim(-0.002, 0.5)\n",
    "plt.plot(lags / Fe, cy, \"k-\")\n",
    "plt.title(\"Autocorrelation du signal observé\")\n",
    "plt.xlabel(\"Temps (s)\")\n",
    "plt.tight_layout()"
   ]
  },
  {
   "cell_type": "markdown",
   "metadata": {},
   "source": [
    "#### c) Construire la référence bruit seul à partir du signal retardé  $y_r$ \n",
    "\n",
    "**Questions :** En analysant le graphique précédent\n",
    "1. déterminer à partir de quel retard l'autocorrélation devient un signal (quasi)-périodique ?\n",
    "2. que peut-on en déduire pour la fonction d'autocorrélation du signal EMG utile ?\n",
    "3. quelle valeur  du retard ``M`` **en nombre d'échantillons** choisir pour la suite (on rappelle que, pour cette partie au moins, M doit être un **multiple de la période du bruit**) ?"
   ]
  },
  {
   "cell_type": "markdown",
   "metadata": {},
   "source": [
    "Valeur appropriée du retard ``M`` en nombre d'échantillons à appliquer."
   ]
  },
  {
   "cell_type": "code",
   "execution_count": 11,
   "metadata": {},
   "outputs": [],
   "source": [
    "M = 80  # FIXME: choisir une valeur appropriée"
   ]
  },
  {
   "cell_type": "markdown",
   "metadata": {},
   "source": [
    "Construction des signaux de référence: $y$ décalé temporellement et $y_r$ (signal retardé de `M` échantillons)."
   ]
  },
  {
   "cell_type": "code",
   "execution_count": 12,
   "metadata": {},
   "outputs": [],
   "source": [
    "# Changement d'origine des temps\n",
    "y = sig_y[M::]\n",
    "L = y.shape[0]\n",
    "temps = temps[M::]  # Domaine temporel associé à y\n",
    "y_retard = sig_y[0:L]\n",
    "# les deux ndarray utiles sont maintenant y et y_retard"
   ]
  },
  {
   "cell_type": "markdown",
   "metadata": {},
   "source": [
    "#### d) Construire le filtre de Wiener (filtre auto-ajusté optimal).\n",
    "\n",
    "On rappelle la réponse $\\boldsymbol{w}$ du filtre de Wiener RIF (N+1) est la solution de l’équation de Wiener-Hopf suivante :\n",
    "\n",
    "\\begin{array}{cccc}\n",
    "\\underbrace{\n",
    "\\begin{pmatrix}\n",
    " \\Gamma_{sy}[0] \\\\\n",
    " \\Gamma_{sy}[1] \\\\\n",
    "  \\vdots \\\\\n",
    "  \\vdots \\\\\n",
    " \\Gamma_{sy}[N]\n",
    "\\end{pmatrix}\n",
    "}\n",
    "&= &\n",
    "\\underbrace{\\begin{pmatrix}\n",
    " \\Gamma_{y}[0] &\\Gamma_{y}[1]&  \\ldots & \\ldots &  \\Gamma_{y}[N] \\\\\n",
    " \\Gamma_{y}[1] &\\Gamma_{y}[0]&  \\ldots & \\ldots &  \\Gamma_{y}[N-1] \\\\\n",
    " \\vdots & \\vdots & \\ddots  & & \\vdots \\\\\n",
    "  \\vdots & \\vdots &  & \\ddots & \\vdots \\\\\n",
    " \\Gamma_{y}[N] & \\Gamma_{y}[N-1]  &    \\ldots & \\ldots &  \\Gamma_{y}[0]\n",
    "\\end{pmatrix}}\n",
    "&\n",
    "\\underbrace{\n",
    "\\begin{pmatrix}\n",
    " w_0 \\\\\n",
    " w_1\\\\\n",
    "  \\vdots \\\\\n",
    "   \\vdots \\\\\n",
    " w_N\n",
    "\\end{pmatrix}},\\\\\n",
    "\\boldsymbol{\\Gamma_{sy}} & = & \\boldsymbol{\\Gamma_{y}} & \\boldsymbol{w}\n",
    "\\end{array}\n",
    "\n",
    "Afin de former ce système puis de le résoudre, il est d'abord nécessaire d'estimer les fonctions de corrélation \n",
    "$\\Gamma_{y}[\\cdot]$ et $\\Gamma_{sy}[\\cdot]$ pour tous les retards $r=0,\\ldots,$`Nrif`."
   ]
  },
  {
   "cell_type": "code",
   "execution_count": 13,
   "metadata": {},
   "outputs": [
    {
     "data": {
      "application/vnd.jupyter.widget-view+json": {
       "model_id": "0b0d299c7552431c855ef1b339278e1c",
       "version_major": 2,
       "version_minor": 0
      },
      "text/plain": [
       "Canvas(toolbar=Toolbar(toolitems=[('Home', 'Reset original view', 'home', 'home'), ('Back', 'Back to previous …"
      ]
     },
     "metadata": {},
     "output_type": "display_data"
    }
   ],
   "source": [
    "# Estimation de l'intercorrélation Gamma_sy\n",
    "[inter_sy, lags] = xcorr(y, y_retard, maxlag=Nrif, scale=scale)\n",
    "# On regarde dans [0, Nrif] et on ne garde que les retards positifs\n",
    "inter_sy = inter_sy[Nrif:]\n",
    "lags = lags[Nrif:] / Fe  # En secondes\n",
    "\n",
    "# Estimation de l'autocorrélation Gamma_y\n",
    "auto_y, _ = xcorr(y, y, maxlag=Nrif, scale=scale)\n",
    "auto_y = auto_y[Nrif:]\n",
    "\n",
    "# Affichage\n",
    "plt.figure(figsize=(10, 8))\n",
    "plt.subplot(2, 1, 1)\n",
    "plt.grid()\n",
    "plt.plot(lags, inter_sy, \"k-\")\n",
    "plt.title(\"Intercorrélation estimée entre signal observé et bruit périodique\")\n",
    "plt.xlabel(\"Temps (s)\")\n",
    "plt.tight_layout()\n",
    "plt.subplot(2, 1, 2)\n",
    "plt.grid()\n",
    "plt.plot(lags, auto_y, \"k-\")\n",
    "plt.title(\"Autocorrélation estimée des observations\")\n",
    "plt.xlabel(\"Temps (s)\")\n",
    "plt.tight_layout()"
   ]
  },
  {
   "cell_type": "markdown",
   "metadata": {},
   "source": [
    "**Question :** Quelle différence constatez vous entre les fonctions d'inter et d'auto-corrélations et à quoi est-elle due ?\n",
    "\n",
    "On peut maintenant calculer des coefficients du filtre optimal : résolution de l'équation de Wiener-Hopf\n",
    "\n",
    "$$\\boldsymbol{w}=\\boldsymbol{\\Gamma_{y}}^{-1}\\boldsymbol{\\Gamma_{sy}}$$"
   ]
  },
  {
   "cell_type": "code",
   "execution_count": 14,
   "metadata": {},
   "outputs": [],
   "source": [
    "# Mise en forme des vecteurs et de la matrice de corrélation\n",
    "# cf aide `help()` des méthodes\n",
    "# `toeplitz()` pour créer une matrice toeplitz symétrique à partir de la première ligne\n",
    "#  `solve()` pour résoudre un système linéaire\n",
    "\n",
    "# Gamma_y est une matrice taille (Nrif+1) x (Nrif+1)\n",
    "Gamma_y = np.zeros((Nrif + 1, Nrif + 1))  # FIXME: former la matrice Gamma_y\n",
    "\n",
    "# Gamma_sy est un vecteur taille (Nrif+1)\n",
    "Gamma_sy = np.zeros((Nrif + 1,))  # FIXME: former le vecteur Gamma_sy\n",
    "\n",
    "# Calcul de la réponse du filtre de longueur (Nrif+1)\n",
    "coeff = np.random.normal(size=(Nrif + 1,))  # FIXME: calculer la solution w de W-H\n",
    "\n",
    "Gamma_y = toeplitz(auto_y)  # Matrice taille (Nrif+1) x (Nrif+1)\n",
    "Gamma_sy = inter_sy[:]  # Vecteur taille (Nrif+1)\n",
    "# Calcul de la réponse du filtre\n",
    "coeff = solve(Gamma_y, Gamma_sy)  # Vecteur taille (Nrif+1)"
   ]
  },
  {
   "cell_type": "code",
   "execution_count": 15,
   "metadata": {},
   "outputs": [
    {
     "data": {
      "application/vnd.jupyter.widget-view+json": {
       "model_id": "6f2ffde74095419d92ac7109271ef918",
       "version_major": 2,
       "version_minor": 0
      },
      "text/plain": [
       "Canvas(toolbar=Toolbar(toolitems=[('Home', 'Reset original view', 'home', 'home'), ('Back', 'Back to previous …"
      ]
     },
     "metadata": {},
     "output_type": "display_data"
    }
   ],
   "source": [
    "# Affichage\n",
    "plt.figure(figsize=(10, 8))\n",
    "plt.subplot(2, 1, 1)\n",
    "plt.grid()\n",
    "plt.plot(np.arange(Nrif + 1), coeff, \"k-\")\n",
    "plt.title(\"Réponse impulsionnelle\")\n",
    "plt.xlabel(\"Indice de l'échantillon\")\n",
    "plt.tight_layout()\n",
    "plt.subplot(2, 1, 2)\n",
    "plt.grid()\n",
    "plt.plot(\n",
    "    (np.arange(Nrif + 1) / Nrif - 0.5) * Fe,\n",
    "    np.abs(np.fft.fftshift(np.fft.fft(coeff))),\n",
    "    \"k-\",\n",
    ")\n",
    "plt.title(\"Fonction de Transfert\")\n",
    "plt.xlabel(\"Fréquence (Hz)\")\n",
    "plt.tight_layout()"
   ]
  },
  {
   "cell_type": "markdown",
   "metadata": {},
   "source": [
    "**Remarques sur les deux graphiques précédents**\n",
    "\n",
    "Il est difficile d'interpréter visuellement la forme de la réponse impulsionnelle. Par contre, la fonction de transfert devrait faire apparaître des raies autour des fréquences de bruit (on rappelle qu'on estime ici le bruit périodique afin de pouvoir le soustraire par la suite)\n"
   ]
  },
  {
   "cell_type": "markdown",
   "metadata": {},
   "source": [
    "### 2. Estimer / Supprimer la composante périodique\n",
    "\n",
    "#### a) Bruit périodique"
   ]
  },
  {
   "cell_type": "code",
   "execution_count": 16,
   "metadata": {},
   "outputs": [],
   "source": [
    "#  Filtre RIF : Le dénominateur de la fonction de transfert rationnelle dans le\n",
    "#  domaine de la TZ est [1, 0, ..., 0]\n",
    "a = np.zeros((coeff.shape[0]))\n",
    "a[0] = 1\n",
    "# Estimation optimale du bruit\n",
    "vpest_rif = lfilter(coeff, a, y)\n",
    "# DSP du bruit estimé\n",
    "_, dspvp = welch(vpest_rif, Fe, window=hann_win, noverlap=rec, nfft=2 * Nblocks)"
   ]
  },
  {
   "cell_type": "markdown",
   "metadata": {},
   "source": [
    "#### b) Signal utile\n",
    "\n",
    "**Question :** Comment estimer le signal utile $x$ (signal large bande) à partir du signal observé $y$ et de l'estimateur du bruit $\\hat{\\nu}_p$ ?"
   ]
  },
  {
   "cell_type": "code",
   "execution_count": 17,
   "metadata": {},
   "outputs": [],
   "source": [
    "# Estimation optimale du signal large bande\n",
    "xest_rif = y  # FIXME: mettre la bonne valeur\n",
    "xest_rif = y - vpest_rif\n",
    "\n",
    "# DSP du bruit estimé\n",
    "_, dspx = welch(xest_rif[Nrif::], Fe, window=hann_win, noverlap=rec, nfft=2 * Nblocks)"
   ]
  },
  {
   "cell_type": "markdown",
   "metadata": {},
   "source": [
    "#### c) Périodogramme du signal utile : Visualisations et Comparaisons"
   ]
  },
  {
   "cell_type": "code",
   "execution_count": 18,
   "metadata": {},
   "outputs": [
    {
     "data": {
      "application/vnd.jupyter.widget-view+json": {
       "model_id": "c0395470eeb945e88613f8fd185f028d",
       "version_major": 2,
       "version_minor": 0
      },
      "text/plain": [
       "Canvas(toolbar=Toolbar(toolitems=[('Home', 'Reset original view', 'home', 'home'), ('Back', 'Back to previous …"
      ]
     },
     "metadata": {},
     "output_type": "display_data"
    }
   ],
   "source": [
    "# Affichage\n",
    "plt.figure(figsize=(10, 10))\n",
    "plt.subplot(2, 1, 1)\n",
    "plt.grid()\n",
    "plt.semilogy(freq, dspy, \"b-\", label=\"Observation\")\n",
    "plt.semilogy(freq, dspvp, \"k-\", label=\"Composante Périodique\")\n",
    "plt.title(\"Densité Spectrale de Puissance (dB)\")\n",
    "plt.xlabel(\"Fréquence (Hz)\")\n",
    "plt.legend()\n",
    "plt.tight_layout()\n",
    "plt.subplot(2, 1, 2)\n",
    "plt.grid()\n",
    "plt.semilogy(freq, dspy, \"b-\", label=\"Observation\")\n",
    "plt.semilogy(freq, dspx, \"k-\", label=\"Composante non Périodique\")\n",
    "plt.title(\"Densité Spectrale de Puissance (dB)\")\n",
    "plt.xlabel(\"Fréquence (Hz)\")\n",
    "plt.legend()\n",
    "plt.tight_layout()"
   ]
  },
  {
   "cell_type": "markdown",
   "metadata": {},
   "source": [
    "#### d) Visualisation des résultats dans le domaine temporel."
   ]
  },
  {
   "cell_type": "code",
   "execution_count": 19,
   "metadata": {},
   "outputs": [
    {
     "data": {
      "application/vnd.jupyter.widget-view+json": {
       "model_id": "d352f7b7a61e4b94aab4113686c4f5f9",
       "version_major": 2,
       "version_minor": 0
      },
      "text/plain": [
       "Canvas(toolbar=Toolbar(toolitems=[('Home', 'Reset original view', 'home', 'home'), ('Back', 'Back to previous …"
      ]
     },
     "metadata": {},
     "output_type": "display_data"
    }
   ],
   "source": [
    "# Affichage\n",
    "plt.figure(figsize=(10, 8))\n",
    "plt.subplot(3, 1, 1)\n",
    "plt.grid()\n",
    "plt.plot(temps, y, \"b-\")\n",
    "plt.title(\"Formes d'onde du signal observé\")\n",
    "plt.xlabel(\"Temps (s)\")\n",
    "plt.xlim(2, 2.5)\n",
    "plt.tight_layout()\n",
    "plt.subplot(3, 1, 2)\n",
    "plt.grid()\n",
    "plt.plot(temps, y, \"b-\", label=\"Observation\")\n",
    "plt.plot(temps, vpest_rif, \"r-\", label=\"Composante Périodique\")\n",
    "plt.title(\"Formes d'onde\")\n",
    "plt.xlabel(\"Temps (s)\")\n",
    "plt.xlim(2, 2.5)\n",
    "plt.legend()\n",
    "plt.tight_layout()\n",
    "plt.subplot(3, 1, 3)\n",
    "plt.grid()\n",
    "plt.plot(temps, y, \"b-\", label=\"Observation\")\n",
    "plt.plot(temps, xest_rif, \"r-\", label=\"Composante non Périodique\")\n",
    "plt.title(\"Formes d'onde\")\n",
    "plt.xlabel(\"Temps (s)\")\n",
    "plt.xlim(2, 2.5)\n",
    "plt.legend()\n",
    "plt.tight_layout()"
   ]
  },
  {
   "cell_type": "markdown",
   "metadata": {},
   "source": [
    "## III. Prédiction / Suppression du bruit périodique à partir du signal retardé\n",
    "\n",
    "\n",
    "\n",
    "### Filtre prédicteur\n",
    "\n",
    "Le filtre de Wiener permettant d’estimer (puis de supprimer) un bruit périodique est  vu maintenant\n",
    "comme un problème de prédiction du bruit périodique à partir du signal retardé. Ceci revient à considérer \n",
    "le modèle suivant :\n",
    "- $y'(t) \\equiv y_r(t) = x(t -\\tau') +  \\nu_p(t -\\tau'), \\quad$ l'observation à l'instant $t$\n",
    "- $s(t) \\equiv \\nu_p(t), \\quad$ le signal à estimer\n",
    "\n",
    "et donc à synthétiser le filtre schématisé sur la figure ci-dessous\n",
    "\n",
    "![Schéma du filtre prédicteur](schema_predicteur.svg)\n",
    "\n",
    "**Questions :**\n",
    "1. Montrer que $\\Gamma_{y'}(\\tau)= \\Gamma_{y}(t)$ et que **pour tout** $\\tau' > 0$\n",
    "suffisamment grand, $\\Gamma_{sy'}(\\tau)= \\Gamma_{y}(\\tau)$\n",
    "2. Quel est alors l’avantage de ce modèle par rapport au filtre précédent (partie II) afin de choisir $\\tau'$ et donc\n",
    "le retard équivalent en nombre d’échantillons `M` ?\n",
    "\n",
    "\n",
    "#### a) Valeur appropriée du retard ``M`` en nombre d'échantillons à appliquer (on pourra prendre une valeur qui n'est plus un multiple de la période pour tester la méthode)"
   ]
  },
  {
   "cell_type": "code",
   "execution_count": 20,
   "metadata": {},
   "outputs": [],
   "source": [
    "# Retard en nombre d'échantillons\n",
    "M = 0  # FIXME: choisir une valeur appropriée\n",
    "M = 110"
   ]
  },
  {
   "cell_type": "code",
   "execution_count": 21,
   "metadata": {},
   "outputs": [],
   "source": [
    "# Changement d'origine des temps\n",
    "y = sig_y[M::]\n",
    "L = len(y)\n",
    "temps = np.arange(M, N) / Fe\n",
    "y_retard = sig_y[0:L]"
   ]
  },
  {
   "cell_type": "markdown",
   "metadata": {},
   "source": [
    "#### b) Construction du filtre - estimation des fonctions de corrélation"
   ]
  },
  {
   "cell_type": "code",
   "execution_count": 22,
   "metadata": {},
   "outputs": [],
   "source": [
    "# Estimation de l'intercorrélation -\n",
    "[inter_sy, lags] = xcorr(y, y_retard, maxlag=Nrif, scale=scale)\n",
    "inter_sy = inter_sy[Nrif:]"
   ]
  },
  {
   "cell_type": "markdown",
   "metadata": {},
   "source": [
    "**Question :**  est-il nécessaire de recalculer l'autocorrélation $\\Gamma_{y'}(\\tau)$ sachant qu'on a déjà calculé $\\Gamma_{y}(\\tau)$ dans la partie II précédente ?"
   ]
  },
  {
   "cell_type": "markdown",
   "metadata": {},
   "source": [
    "#### c) Construction du filtre - résolution de W-H et filtrage\n",
    "\n",
    "On pourra tester différentes valeur de `M` et comparer les résultats avec ceux de la partie II précédente"
   ]
  },
  {
   "cell_type": "code",
   "execution_count": 23,
   "metadata": {},
   "outputs": [],
   "source": [
    "# FIXME: a terminer en adaptant directement le code de la partie précédante"
   ]
  },
  {
   "cell_type": "code",
   "execution_count": 24,
   "metadata": {},
   "outputs": [],
   "source": [
    "Nrif = 1000  # Correspond à une bande de transition ~ 2Hz\n",
    "# Estimation de l'intercorrélation -\n",
    "#   L'autocorrélation Gamma_y est inchangée\n",
    "[inter_sy, lags] = xcorr(y, y_retard, maxlag=Nrif, scale=scale)\n",
    "inter_sy = inter_sy[Nrif:]\n",
    "# Calcul de la réponse du filtre\n",
    "coeff = solve(Gamma_y, inter_sy[:])"
   ]
  },
  {
   "cell_type": "markdown",
   "metadata": {},
   "source": [
    "Résultats après filtrage"
   ]
  },
  {
   "cell_type": "code",
   "execution_count": 25,
   "metadata": {},
   "outputs": [],
   "source": [
    "# Estimation du bruit périodique\n",
    "a = np.zeros((coeff.shape[0]))\n",
    "a[0] = 1\n",
    "vpest_rif = lfilter(coeff, a, y_retard)\n",
    "_, dspvp = welch(vpest_rif, Fe, window=hann_win, noverlap=rec, nfft=2 * Nblocks)\n",
    "# Estimation du signal large bande\n",
    "xest_rif = y - vpest_rif\n",
    "_, dspx = welch(xest_rif[Nrif::], Fe, window=hann_win, noverlap=rec, nfft=2 * Nblocks)"
   ]
  },
  {
   "cell_type": "markdown",
   "metadata": {},
   "source": [
    "Affichage dans le domaine fréquentiel, périodogrammes."
   ]
  },
  {
   "cell_type": "code",
   "execution_count": 26,
   "metadata": {},
   "outputs": [
    {
     "data": {
      "application/vnd.jupyter.widget-view+json": {
       "model_id": "088bc2c5a4e44072a2198d8950f4b35a",
       "version_major": 2,
       "version_minor": 0
      },
      "text/plain": [
       "Canvas(toolbar=Toolbar(toolitems=[('Home', 'Reset original view', 'home', 'home'), ('Back', 'Back to previous …"
      ]
     },
     "metadata": {},
     "output_type": "display_data"
    }
   ],
   "source": [
    "# Affichage\n",
    "plt.figure(figsize=(10, 10))\n",
    "plt.subplot(2, 1, 1)\n",
    "plt.grid()\n",
    "plt.semilogy(freq, dspy, \"b-\", label=\"Observation\")\n",
    "plt.semilogy(freq, dspvp, \"k-\", label=\"Composante Périodique\")\n",
    "plt.title(\"Densité Spectrale de Puissance (dB)\")\n",
    "plt.xlabel(\"Fréquence (Hz)\")\n",
    "plt.legend()\n",
    "plt.tight_layout()\n",
    "plt.subplot(2, 1, 2)\n",
    "plt.grid()\n",
    "plt.semilogy(freq, dspy, \"b-\", label=\"Observation\")\n",
    "plt.semilogy(freq, dspx, \"k-\", label=\"Composante non Périodique\")\n",
    "plt.title(\"Densité Spectrale de Puissance (dB)\")\n",
    "plt.xlabel(\"Fréquence (Hz)\")\n",
    "plt.legend()\n",
    "plt.tight_layout()"
   ]
  },
  {
   "cell_type": "markdown",
   "metadata": {},
   "source": [
    "Affichage dans le domaine temporel."
   ]
  },
  {
   "cell_type": "code",
   "execution_count": 27,
   "metadata": {},
   "outputs": [
    {
     "data": {
      "application/vnd.jupyter.widget-view+json": {
       "model_id": "12dac01d86c8481bb5fd808dd14f769a",
       "version_major": 2,
       "version_minor": 0
      },
      "text/plain": [
       "Canvas(toolbar=Toolbar(toolitems=[('Home', 'Reset original view', 'home', 'home'), ('Back', 'Back to previous …"
      ]
     },
     "metadata": {},
     "output_type": "display_data"
    }
   ],
   "source": [
    "# Affichage\n",
    "plt.figure(figsize=(10, 8))\n",
    "plt.subplot(3, 1, 1)\n",
    "plt.grid()\n",
    "plt.plot(temps, y, \"b-\")\n",
    "plt.title(\"Formes d'onde du signal observé\")\n",
    "plt.xlabel(\"Temps (s)\")\n",
    "plt.xlim(2, 2.5)\n",
    "plt.tight_layout()\n",
    "plt.subplot(3, 1, 2)\n",
    "plt.grid()\n",
    "plt.plot(temps, y, \"b-\", label=\"Observation\")\n",
    "plt.plot(temps, vpest_rif, \"r-\", label=\"Composante Périodique\")\n",
    "plt.title(\"Formes d'onde\")\n",
    "plt.xlabel(\"Temps (s)\")\n",
    "plt.xlim(2, 2.5)\n",
    "plt.legend()\n",
    "plt.tight_layout()\n",
    "plt.subplot(3, 1, 3)\n",
    "plt.grid()\n",
    "plt.plot(temps, y, \"b-\", label=\"Observation\")\n",
    "plt.plot(temps, xest_rif, \"r-\", label=\"Composante non Périodique\")\n",
    "plt.title(\"Formes d'onde\")\n",
    "plt.xlabel(\"Temps (s)\")\n",
    "plt.xlim(2, 2.5)\n",
    "plt.legend()\n",
    "plt.tight_layout()"
   ]
  },
  {
   "cell_type": "code",
   "execution_count": null,
   "metadata": {},
   "outputs": [],
   "source": []
  }
 ],
 "metadata": {
  "kernelspec": {
   "display_name": "Python [conda env:calc]",
   "language": "python",
   "name": "conda-env-calc-py"
  },
  "language_info": {
   "codemirror_mode": {
    "name": "ipython",
    "version": 3
   },
   "file_extension": ".py",
   "mimetype": "text/x-python",
   "name": "python",
   "nbconvert_exporter": "python",
   "pygments_lexer": "ipython3",
   "version": "3.7.9"
  },
  "widgets": {
   "application/vnd.jupyter.widget-state+json": {
    "state": {},
    "version_major": 2,
    "version_minor": 0
   }
  }
 },
 "nbformat": 4,
 "nbformat_minor": 4
}
