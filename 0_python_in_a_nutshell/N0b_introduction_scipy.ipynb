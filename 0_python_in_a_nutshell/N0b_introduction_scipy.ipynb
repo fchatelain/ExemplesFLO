{
 "cells": [
  {
   "cell_type": "markdown",
   "metadata": {},
   "source": [
    "This notebook can be run on mybinder: [![Binder](https://mybinder.org/badge_logo.svg)](https://mybinder.org/v2/gh/fchatelain/ExemplesFLO/master?urlpath=lab/tree/0_python_in_a_nutshell/N0b_introduction_scipy.ipynb)"
   ]
  },
  {
   "cell_type": "markdown",
   "metadata": {},
   "source": [
    "# Introduction to Scipy and Numpy\n",
    "Data analysis needs effective computational ressources to read/write and process data. Usually, the data set to be processed is a set of arrays. [Scipy](https://www.scipy.org/) (*Scientific Python*) package is a dedicated tool to operate on array efficiently. Quoting the *FAQ*, Scipy is \"*set of open source (BSD licensed) scientific and numerical tools for Python. It currently supports special functions, integration, ordinary differential equation (ODE) solvers, gradient optimization, parallel programming tools, an expression-to-C++ compiler for fast execution, and others. A good rule of thumb is that if it’s covered in a general textbook on numerical computing (for example, the well-known Numerical Recipes series), it’s probably implemented in scipy*\". This is the core of any data analysis package in Python.\n",
    "\n",
    "The main structure provided by Numpy is the *Fixed-Type Arrays*: **ndarray**. It is an efficient way of storing data and processing them."
   ]
  },
  {
   "cell_type": "code",
   "execution_count": 1,
   "metadata": {},
   "outputs": [],
   "source": [
    "# Find the scipy and numpy module and define an alias in the local namespace\n",
    "import scipy as sp\n",
    "import numpy as np"
   ]
  },
  {
   "cell_type": "code",
   "execution_count": 2,
   "metadata": {},
   "outputs": [
    {
     "name": "stdout",
     "output_type": "stream",
     "text": [
      "A = [0 1 2 3 4 5 6 7 8 9]\n",
      "B = [0 1 2 3 4 5 6 7 8 9]\n"
     ]
    },
    {
     "data": {
      "text/plain": [
       "\u001b[0;31mDocstring:\u001b[0m scipy.array is deprecated and will be removed in SciPy 2.0.0, use numpy.array instead\n",
       "\u001b[0;31mType:\u001b[0m      function\n"
      ]
     },
     "metadata": {},
     "output_type": "display_data"
    }
   ],
   "source": [
    "A = np.array(range(10)) # Create array from a list\n",
    "print(\"A = {}\".format(A)) # note that there is 10 elements: 0,1,...,9\n",
    "B = np.arange(10) # Create array from scratch\n",
    "print(\"B = {}\".format(B))\n",
    "sp.array?"
   ]
  },
  {
   "cell_type": "markdown",
   "metadata": {},
   "source": [
    "There are plenty of functions to create and to initialize specific array (sp.zeros, sp.ones, sp.empty ...). For each case, it is possible to define the type (int8, uint8, float64 ...) by providing the corresponding parameter. More information regarding the different array types can be found here: https://docs.scipy.org/doc/numpy-1.13.0/user/basics.types.html and https://docs.scipy.org/doc/numpy-1.13.0/reference/arrays.dtypes.html.\n",
    "\n",
    "## Basics of Arrays \n",
    "### Getting attributes"
   ]
  },
  {
   "cell_type": "code",
   "execution_count": 3,
   "metadata": {},
   "outputs": [
    {
     "name": "stdout",
     "output_type": "stream",
     "text": [
      "Number of elements in A: 10\n",
      "Number of dimension of A: 1\n",
      "Dimension of A: (10,)\n",
      "Type of element in A: int64\n"
     ]
    }
   ],
   "source": [
    "# Attributes\n",
    "print(\"Number of elements in A: {}\".format(A.size))\n",
    "print(\"Number of dimension of A: {}\".format(A.ndim))\n",
    "print(\"Dimension of A: {}\".format(A.shape))\n",
    "print(\"Type of element in A: {}\".format(A.dtype))"
   ]
  },
  {
   "cell_type": "markdown",
   "metadata": {},
   "source": [
    "It is possible to modify explicitely some attributes, in particlar the *shape*:"
   ]
  },
  {
   "cell_type": "code",
   "execution_count": 4,
   "metadata": {},
   "outputs": [
    {
     "name": "stdout",
     "output_type": "stream",
     "text": [
      "B = \n",
      " [[0 1 2 3 4]\n",
      " [5 6 7 8 9]]\n",
      "(2, 5)\n",
      "(10,)\n"
     ]
    }
   ],
   "source": [
    "B.shape = (2,5) # Change the shape to two lines, 5 columns -> the number of total elements should be the same\n",
    "print(\"B = \\n {}\".format(B))\n",
    "C = B.reshape(10) # The function return a new array with the corresponding shape\n",
    "print(B.shape)\n",
    "print(C.shape)"
   ]
  },
  {
   "cell_type": "markdown",
   "metadata": {},
   "source": [
    "### Accessing elements"
   ]
  },
  {
   "cell_type": "code",
   "execution_count": 5,
   "metadata": {},
   "outputs": [
    {
     "name": "stdout",
     "output_type": "stream",
     "text": [
      "A = [0 1 2 3 4 5 6 7 8 9]\n",
      "0\n",
      "1\n",
      "9\n",
      "8\n"
     ]
    }
   ],
   "source": [
    "print(\"A = {}\".format(A))\n",
    "print(A[0]) # First element\n",
    "print(A[1]) # Second element\n",
    "print(A[-1]) # Last element\n",
    "print(A[-2]) # Antepenultimate element"
   ]
  },
  {
   "cell_type": "code",
   "execution_count": 6,
   "metadata": {},
   "outputs": [
    {
     "name": "stdout",
     "output_type": "stream",
     "text": [
      "[0 1 2]\n",
      "[0 2 4 6 8]\n",
      "[7 8]\n"
     ]
    }
   ],
   "source": [
    "# Some slicing\n",
    "print(A[0:3]) # Return an array of elements of A from the first (index 0) to the third (index 2)\n",
    "print(A[::2]) # All elements with a step of 2\n",
    "print(A[-3:-1]) # Can use reverse order"
   ]
  },
  {
   "cell_type": "markdown",
   "metadata": {},
   "source": [
    "## Computation on Array\n",
    "### Universal functions\n",
    "A general comment for interpreted laguage: **do not use loop if you can** ! It is slow and inefficient.\n",
    "\n",
    "The comment apply here with Python. Scipy provide a large types of operation that are optimized to work on array directly (as in Matlab, R ...). In particular, *universal functions* (ufuncs) are a set of functions for fast element-wise operations (+, -, power ...). Let see a short example:"
   ]
  },
  {
   "cell_type": "code",
   "execution_count": 7,
   "metadata": {},
   "outputs": [
    {
     "name": "stdout",
     "output_type": "stream",
     "text": [
      "using loops\n",
      "81.1 ms ± 1.23 ms per loop (mean ± std. dev. of 7 runs, 10 loops each)\n",
      "using ufuncs\n",
      "155 µs ± 3.75 µs per loop (mean ± std. dev. of 7 runs, 10000 loops each)\n"
     ]
    }
   ],
   "source": [
    "def my_add(M,N): # Suppose that A and B have the same shape\n",
    "    P = np.empty_like(M)\n",
    "    nl, nr = M.shape\n",
    "    for i in range(nl):\n",
    "        for j in range(nr):\n",
    "            P[i,j] = M[i,j] + N[i,j]\n",
    "    return P\n",
    "\n",
    "M, N = np.arange(100000).reshape(1000,100), np.arange(100000).reshape(1000,100)\n",
    "\n",
    "# Evaluate execution time by repeating several runs based on a total of 2 seconds execution window\n",
    "print('using loops')\n",
    "%timeit my_add(M,N) # using loops\n",
    "print('using ufuncs')\n",
    "%timeit M + N # using ufuncs equivalent to sp.add(A,B)"
   ]
  },
  {
   "cell_type": "markdown",
   "metadata": {},
   "source": [
    "Most all conventional functions exist: arithmetic, trigonometric, log/exp ... A detailed list is available here: https://docs.scipy.org/doc/numpy-1.13.0/reference/ufuncs.html"
   ]
  },
  {
   "cell_type": "markdown",
   "metadata": {},
   "source": [
    "### Reduction\n",
    "Scipy provides a set of functions to extrac values from the array itself and for some specific dimension of the array"
   ]
  },
  {
   "cell_type": "code",
   "execution_count": 8,
   "metadata": {},
   "outputs": [
    {
     "name": "stdout",
     "output_type": "stream",
     "text": [
      "A = \n",
      "[[0.35570498 0.67993896 0.42488973 0.9459345 ]\n",
      " [0.2214041  0.86658789 0.678633   0.69416211]\n",
      " [0.15546284 0.63832514 0.31239942 0.89647171]\n",
      " [0.71531034 0.63952429 0.99672307 0.94042288]\n",
      " [0.18220749 0.29591553 0.88379317 0.61306693]]\n",
      "12.136878085404534\n",
      "[1.63008976 3.12029181 3.29643839 4.09005813]\n",
      "[2.40646817 2.4607871  2.00265911 3.29198058 1.97498313]\n"
     ]
    }
   ],
   "source": [
    "A = sp.random.rand(5,4)\n",
    "print(\"A = \\n{}\".format(A))\n",
    "print(A.sum()) # Sum over all element\n",
    "print(A.sum(axis=0)) # Sum over the lines: return an array of values\n",
    "print(A.sum(axis=1)) # over the columns"
   ]
  },
  {
   "cell_type": "markdown",
   "metadata": {},
   "source": [
    "Using the same convention, it is possible to get the cumulative sum (cumsum), product of element (prod, cumprod), the maximum/minimum value (max, min) and their position (argmax, argmin) and the first and second statistical moment (mean, var/std). It is also possible to check if a condition is fullfilled for all or any elements of the array."
   ]
  },
  {
   "cell_type": "code",
   "execution_count": 9,
   "metadata": {},
   "outputs": [
    {
     "data": {
      "text/plain": [
       "True"
      ]
     },
     "execution_count": 9,
     "metadata": {},
     "output_type": "execute_result"
    }
   ],
   "source": [
    "np.any(A>0)"
   ]
  },
  {
   "cell_type": "code",
   "execution_count": 10,
   "metadata": {},
   "outputs": [
    {
     "data": {
      "text/plain": [
       "False"
      ]
     },
     "execution_count": 10,
     "metadata": {},
     "output_type": "execute_result"
    }
   ],
   "source": [
    "np.all(A>0.5)"
   ]
  },
  {
   "cell_type": "markdown",
   "metadata": {},
   "source": [
    "### Some exercices\n",
    "- Find the maximum and minimum value of A\n",
    "- Find the maximum of each line\n",
    "- Find the mean value of each row\n",
    "- Find the position of the minimum value of each row"
   ]
  },
  {
   "cell_type": "code",
   "execution_count": 11,
   "metadata": {},
   "outputs": [
    {
     "name": "stdout",
     "output_type": "stream",
     "text": [
      "0.9967230726605218\n",
      "0.1554628410610679\n",
      "[0.71531034 0.86658789 0.99672307 0.9459345 ]\n",
      "[0.60161704 0.61519677 0.50066478 0.82299514 0.49374578]\n",
      "[0 0 0 1 0]\n"
     ]
    }
   ],
   "source": [
    "print(A.max())\n",
    "print(A.min())\n",
    "print(A.max(axis=0))\n",
    "print(A.mean(axis=1))\n",
    "print(A.argmin(axis=1))"
   ]
  },
  {
   "cell_type": "markdown",
   "metadata": {},
   "source": [
    "### Broadcasting\n",
    "Broadcasting allow to define efficient operations between arrays of different sizes, given some of them are compatible. An extreme example is adding a scalar to a matrix"
   ]
  },
  {
   "cell_type": "code",
   "execution_count": 12,
   "metadata": {},
   "outputs": [
    {
     "data": {
      "text/plain": [
       "array([[3.35570498, 3.67993896, 3.42488973, 3.9459345 ],\n",
       "       [3.2214041 , 3.86658789, 3.678633  , 3.69416211],\n",
       "       [3.15546284, 3.63832514, 3.31239942, 3.89647171],\n",
       "       [3.71531034, 3.63952429, 3.99672307, 3.94042288],\n",
       "       [3.18220749, 3.29591553, 3.88379317, 3.61306693]])"
      ]
     },
     "execution_count": 12,
     "metadata": {},
     "output_type": "execute_result"
    }
   ],
   "source": [
    "A+3"
   ]
  },
  {
   "cell_type": "markdown",
   "metadata": {},
   "source": [
    "Easy ? Now if I need to center the data, it is also super easy"
   ]
  },
  {
   "cell_type": "code",
   "execution_count": 13,
   "metadata": {},
   "outputs": [
    {
     "name": "stdout",
     "output_type": "stream",
     "text": [
      "Size of A: (5, 4)\n",
      "Size of the average of A along the lines: (4,)\n",
      "Size of centered A: (5, 4)\n",
      "Ac=\n",
      "[[ 0.02968703  0.0558806  -0.23439795  0.12792288]\n",
      " [-0.10461385  0.24252953  0.01934532 -0.12384952]\n",
      " [-0.17055511  0.01426678 -0.34688826  0.07846008]\n",
      " [ 0.38929239  0.01546593  0.33743539  0.12241125]\n",
      " [-0.14381046 -0.32814283  0.22450549 -0.20494469]]\n"
     ]
    }
   ],
   "source": [
    "print('Size of A: {}'.format(A.shape))\n",
    "print('Size of the average of A along the lines: {}'.format(A.mean(axis=0).shape))\n",
    "# Suppose that each line is a sample, and each column a measurement (i.e., a variable)\n",
    "Ac= A - A.mean(axis=0) \n",
    "print('Size of centered A: {}'.format(Ac.shape))\n",
    "print ('Ac=\\n{}'.format(Ac))"
   ]
  },
  {
   "cell_type": "markdown",
   "metadata": {},
   "source": [
    "If we need to standardize the data (substract the mean and divide by the standard deviation), it can be achieved easily:"
   ]
  },
  {
   "cell_type": "code",
   "execution_count": 14,
   "metadata": {},
   "outputs": [
    {
     "name": "stdout",
     "output_type": "stream",
     "text": [
      "[[ 0.14378537  0.30299837 -0.89898951  0.92880425]\n",
      " [-0.50668399  1.31505481  0.07419536 -0.89922898]\n",
      " [-0.82606218  0.07735797 -1.33042506  0.56967181]\n",
      " [ 1.88548863  0.08386006  1.29417037  0.8887862 ]\n",
      " [-0.69652782 -1.77927122  0.86104885 -1.48803328]]\n"
     ]
    }
   ],
   "source": [
    "As = (A-A.mean(axis=0))/A.std(axis=0)\n",
    "print(As)"
   ]
  },
  {
   "cell_type": "markdown",
   "metadata": {},
   "source": [
    "More details about broadcasting can be found here: https://docs.scipy.org/doc/numpy-1.13.0/user/basics.broadcasting.html"
   ]
  },
  {
   "cell_type": "markdown",
   "metadata": {},
   "source": [
    "## Ploting in Python\n",
    "The package [Matplotlib](https://matplotlib.org/) offers several functions to plot data. Below an example using 2D data, more complicated plots can be constructed when needed."
   ]
  },
  {
   "cell_type": "code",
   "execution_count": 15,
   "metadata": {},
   "outputs": [
    {
     "data": {
      "image/png": "[encoded data removed]",
      "text/plain": [
       "<Figure size 432x288 with 1 Axes>"
      ]
     },
     "metadata": {
      "needs_background": "light"
     },
     "output_type": "display_data"
    }
   ],
   "source": [
    "%matplotlib inline\n",
    "import matplotlib.pyplot as plt\n",
    "x = np.arange(0,10,0.01)\n",
    "y = x**2\n",
    "plt.plot(x,y)\n",
    "plt.grid()\n",
    "plt.show()"
   ]
  },
  {
   "cell_type": "code",
   "execution_count": null,
   "metadata": {},
   "outputs": [],
   "source": []
  }
 ],
 "metadata": {
  "kernelspec": {
   "display_name": "Python 3",
   "language": "python",
   "name": "python3"
  },
  "language_info": {
   "codemirror_mode": {
    "name": "ipython",
    "version": 3
   },
   "file_extension": ".py",
   "mimetype": "text/x-python",
   "name": "python",
   "nbconvert_exporter": "python",
   "pygments_lexer": "ipython3",
   "version": "3.7.9"
  },
  "widgets": {
   "application/vnd.jupyter.widget-state+json": {
    "state": {},
    "version_major": 2,
    "version_minor": 0
   }
  }
 },
 "nbformat": 4,
 "nbformat_minor": 4
}
